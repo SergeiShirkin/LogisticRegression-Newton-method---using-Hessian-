{
 "cells": [
  {
   "cell_type": "code",
   "execution_count": 53,
   "metadata": {
    "collapsed": true
   },
   "outputs": [],
   "source": [
    "import pandas as pd\n",
    "import numpy as np\n",
    "from sklearn.model_selection import train_test_split\n",
    "from sklearn.metrics import roc_auc_score\n",
    "from sklearn.linear_model import LogisticRegression as LR\n",
    "np.random.seed(42)"
   ]
  },
  {
   "cell_type": "code",
   "execution_count": 55,
   "metadata": {
    "collapsed": true
   },
   "outputs": [],
   "source": [
    "def score(X, W):\n",
    "    scr = np.dot(X, W)\n",
    "    return scr"
   ]
  },
  {
   "cell_type": "code",
   "execution_count": 56,
   "metadata": {
    "collapsed": true
   },
   "outputs": [],
   "source": [
    "def sigmoid(z):\n",
    "    a = 1.0 / (1.0 + np.exp(-z))\n",
    "    return a"
   ]
  },
  {
   "cell_type": "code",
   "execution_count": 57,
   "metadata": {
    "collapsed": true
   },
   "outputs": [],
   "source": [
    "def sigmoid_derive(a):\n",
    "    d = a * (1.0 - a)\n",
    "    return d"
   ]
  },
  {
   "cell_type": "code",
   "execution_count": 58,
   "metadata": {},
   "outputs": [],
   "source": [
    "def f_log_loss(y_true, p):\n",
    "    log_loss = np.mean(-y_true * np.log(p) - (1.0 - y_true) * np.log(1.0 - p))\n",
    "    return log_loss"
   ]
  },
  {
   "cell_type": "code",
   "execution_count": 103,
   "metadata": {},
   "outputs": [
    {
     "data": {
      "text/plain": [
       "array([[ 1.        ,  0.44965709,  0.02625628],\n",
       "       [ 1.        ,  0.04964825,  0.55845583],\n",
       "       [ 1.        ,  0.45288916,  0.11473355],\n",
       "       ..., \n",
       "       [ 1.        ,  0.68568967,  0.73464453],\n",
       "       [ 1.        ,  0.28394877,  0.50914923],\n",
       "       [ 1.        ,  0.61873581,  0.22479946]])"
      ]
     },
     "execution_count": 103,
     "metadata": {},
     "output_type": "execute_result"
    }
   ],
   "source": [
    "n_features = 2\n",
    "x_size = 10000\n",
    "X = np.random.sample((x_size, n_features+1))\n",
    "X[:, 0] = 1\n",
    "X"
   ]
  },
  {
   "cell_type": "code",
   "execution_count": 104,
   "metadata": {},
   "outputs": [],
   "source": [
    "W_true = np.array([\n",
    "    [-0.4],\n",
    "    [0.4],\n",
    "    [0.5]\n",
    "])"
   ]
  },
  {
   "cell_type": "code",
   "execution_count": 105,
   "metadata": {},
   "outputs": [
    {
     "data": {
      "text/plain": [
       "0.59619999999999995"
      ]
     },
     "execution_count": 105,
     "metadata": {},
     "output_type": "execute_result"
    }
   ],
   "source": [
    "y_true = np.round(sigmoid(score(X, W_true)))\n",
    "y_true.mean()"
   ]
  },
  {
   "cell_type": "code",
   "execution_count": 106,
   "metadata": {},
   "outputs": [
    {
     "data": {
      "text/plain": [
       "array([[ 1.        ,  0.67705109,  0.65383655],\n",
       "       [ 1.        ,  0.67441357,  0.77546924],\n",
       "       [ 1.        ,  0.90589385,  0.35441067],\n",
       "       ..., \n",
       "       [ 1.        ,  1.14198931,  0.99340631],\n",
       "       [ 1.        ,  0.58902349,  0.85442808],\n",
       "       [ 1.        ,  1.10888032,  0.22627589]])"
      ]
     },
     "execution_count": 106,
     "metadata": {},
     "output_type": "execute_result"
    }
   ],
   "source": [
    "#! Add noise\n",
    "X[:, 1:] += np.random.sample(X.shape)[:, 1:] / 1.5\n",
    "X"
   ]
  },
  {
   "cell_type": "markdown",
   "metadata": {},
   "source": [
    "#### #Newton method"
   ]
  },
  {
   "cell_type": "code",
   "execution_count": 119,
   "metadata": {},
   "outputs": [
    {
     "name": "stdout",
     "output_type": "stream",
     "text": [
      "[[-0.025]\n",
      " [ 0.095]\n",
      " [-0.045]] \n",
      "\n",
      " [[-0.4]\n",
      " [ 0.4]\n",
      " [ 0.5]]\n"
     ]
    }
   ],
   "source": [
    "#initialize W\n",
    "W_init = np.array([\n",
    "    [-0.25],\n",
    "    [0.95],\n",
    "    [-0.45]\n",
    "]) / 10\n",
    "print(W_init, \"\\n\\n\",W_true)"
   ]
  },
  {
   "cell_type": "code",
   "execution_count": null,
   "metadata": {},
   "outputs": [
    {
     "name": "stdout",
     "output_type": "stream",
     "text": [
      "0: gini = 15.859158524045071, log_loss = 0.6894635536989396\n",
      "[[-0.02916719]\n",
      " [ 0.09748021]\n",
      " [-0.04076173]]\n",
      "--------------------\n",
      "10: gini = 45.399042873314045, log_loss = 0.6826802700833441\n",
      "[[-0.07065072]\n",
      " [ 0.12211186]\n",
      " [ 0.00127095]]\n",
      "--------------------\n",
      "20: gini = 62.00111852530114, log_loss = 0.6761312770221675\n",
      "[[-0.11179831]\n",
      " [ 0.14644188]\n",
      " [ 0.04268418]]\n",
      "--------------------\n",
      "30: gini = 70.46284051926023, log_loss = 0.6698045480015583\n",
      "[[-0.15261871]\n",
      " [ 0.17048158]\n",
      " [ 0.08350094]]\n",
      "--------------------\n"
     ]
    }
   ],
   "source": [
    "lam = 200 # L2 regularization \n",
    "alpha = 0.003\n",
    "iter1 = 100\n",
    "W_prev, W = np.zeros(W.shape), np.copy(W_init)\n",
    "for i in range(iter1):\n",
    "    #probability using current W\n",
    "    p = sigmoid(score(X, W))\n",
    "    p_derive = sigmoid_derive(p)\n",
    "    #Hessian\n",
    "    A = np.copy(X)\n",
    "    B = np.identity(x_size) * p_derive\n",
    "    H = np.dot(np.dot(A.T, B), A)\n",
    "    H_inv = np.linalg.inv(H + lam*np.eye(W.shape[0]))  # 3x3\n",
    "    #gradient\n",
    "    grad = np.dot(A.T, (p - y_true)) #3x1\n",
    "    #print(H_inv.shape, grad.shape)\n",
    "    #step = np.linalg.lstsq(Hf.T, grad.T)[0]\n",
    "    #print('step.shape: {}'.format(step.shape))\n",
    "    step = np.dot(H_inv, grad)\n",
    "    #new W\n",
    "    W -= alpha * step\n",
    "    #gini\n",
    "    auc = roc_auc_score(y_true, p)\n",
    "    gini = 200 * auc - 100\n",
    "    log_loss = f_log_loss(y_true, p)\n",
    "    if i % (iter1 // 10) == 0:\n",
    "        print('{}: gini = {}, log_loss = {}'.format(i, gini, log_loss))\n",
    "        print(W)\n",
    "        #for i in range(10):\n",
    "            #print(int(y_true[i, 0]), p[i, 0])\n",
    "        print('-' * 20)\n",
    "    \n",
    "    if np.max(np.abs(W - W_prev)) > 1e-8:\n",
    "        W_prev = np.copy(W)\n",
    "        continue\n",
    "    else:\n",
    "        print('The weight difference is small. Process stopped.')\n",
    "        break"
   ]
  },
  {
   "cell_type": "code",
   "execution_count": 114,
   "metadata": {},
   "outputs": [
    {
     "name": "stdout",
     "output_type": "stream",
     "text": [
      "81.4845681889\n"
     ]
    },
    {
     "data": {
      "text/plain": [
       "array([[-3.91208425,  4.40717924,  5.91972339]])"
      ]
     },
     "execution_count": 114,
     "metadata": {},
     "output_type": "execute_result"
    }
   ],
   "source": [
    "lr = LR()\n",
    "lr.fit(X, y_true.ravel())\n",
    "pred2 = lr.predict_proba(X)[:, 1]\n",
    "print(200.0 * roc_auc_score(y_true.ravel(), pred2.ravel()) - 100)\n",
    "lr.coef_"
   ]
  },
  {
   "cell_type": "code",
   "execution_count": null,
   "metadata": {
    "collapsed": true
   },
   "outputs": [],
   "source": []
  },
  {
   "cell_type": "code",
   "execution_count": null,
   "metadata": {
    "collapsed": true
   },
   "outputs": [],
   "source": []
  },
  {
   "cell_type": "code",
   "execution_count": null,
   "metadata": {
    "collapsed": true
   },
   "outputs": [],
   "source": []
  }
 ],
 "metadata": {
  "kernelspec": {
   "display_name": "Python 3",
   "language": "python",
   "name": "python3"
  }
 },
 "nbformat": 4,
 "nbformat_minor": 2
}
