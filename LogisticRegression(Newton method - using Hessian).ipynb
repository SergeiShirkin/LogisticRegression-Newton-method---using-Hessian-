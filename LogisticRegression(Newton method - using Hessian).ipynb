{
 "cells": [
  {
   "cell_type": "code",
   "execution_count": 1,
   "metadata": {
    "collapsed": true
   },
   "outputs": [],
   "source": [
    "import pandas as pd\n",
    "import numpy as np\n",
    "from sklearn.model_selection import train_test_split\n",
    "from sklearn.metrics import roc_auc_score\n",
    "from sklearn.linear_model import LogisticRegression as LR\n",
    "np.random.seed(42)"
   ]
  },
  {
   "cell_type": "code",
   "execution_count": 2,
   "metadata": {
    "collapsed": true
   },
   "outputs": [],
   "source": [
    "def score(X, W):\n",
    "    scr = np.dot(X, W)\n",
    "    return scr"
   ]
  },
  {
   "cell_type": "code",
   "execution_count": 3,
   "metadata": {
    "collapsed": true
   },
   "outputs": [],
   "source": [
    "def sigmoid(z):\n",
    "    a = 1.0 / (1.0 + np.exp(-z))\n",
    "    return a"
   ]
  },
  {
   "cell_type": "code",
   "execution_count": 4,
   "metadata": {
    "collapsed": true
   },
   "outputs": [],
   "source": [
    "def sigmoid_derive(a):\n",
    "    d = a * (1.0 - a)\n",
    "    return d"
   ]
  },
  {
   "cell_type": "code",
   "execution_count": 5,
   "metadata": {
    "collapsed": true
   },
   "outputs": [],
   "source": [
    "def f_log_loss(y_true, p):\n",
    "    log_loss = np.mean(-y_true * np.log(p) - (1.0 - y_true) * np.log(1.0 - p))\n",
    "    return log_loss"
   ]
  },
  {
   "cell_type": "code",
   "execution_count": 6,
   "metadata": {},
   "outputs": [
    {
     "data": {
      "text/plain": [
       "array([[ 1.        ,  0.95071431,  0.73199394],\n",
       "       [ 1.        ,  0.15601864,  0.15599452],\n",
       "       [ 1.        ,  0.86617615,  0.60111501],\n",
       "       ..., \n",
       "       [ 1.        ,  0.15825956,  0.12330421],\n",
       "       [ 1.        ,  0.95227545,  0.74782421],\n",
       "       [ 1.        ,  0.40100484,  0.25739798]])"
      ]
     },
     "execution_count": 6,
     "metadata": {},
     "output_type": "execute_result"
    }
   ],
   "source": [
    "n_features = 2\n",
    "x_size = 10000\n",
    "X = np.random.sample((x_size, n_features+1))\n",
    "X[:, 0] = 1\n",
    "X"
   ]
  },
  {
   "cell_type": "code",
   "execution_count": 7,
   "metadata": {
    "collapsed": true
   },
   "outputs": [],
   "source": [
    "W_true = np.array([\n",
    "    [-0.4],\n",
    "    [0.4],\n",
    "    [0.5]\n",
    "])"
   ]
  },
  {
   "cell_type": "code",
   "execution_count": 8,
   "metadata": {},
   "outputs": [
    {
     "data": {
      "text/plain": [
       "0.59340000000000004"
      ]
     },
     "execution_count": 8,
     "metadata": {},
     "output_type": "execute_result"
    }
   ],
   "source": [
    "y_true = np.round(sigmoid(score(X, W_true)))\n",
    "y_true.mean()"
   ]
  },
  {
   "cell_type": "code",
   "execution_count": 9,
   "metadata": {},
   "outputs": [
    {
     "data": {
      "text/plain": [
       "array([[ 1.        ,  1.25690928,  1.37499296],\n",
       "       [ 1.        ,  0.54792292,  0.6228012 ],\n",
       "       [ 1.        ,  1.13749017,  1.05906295],\n",
       "       ..., \n",
       "       [ 1.        ,  0.3589041 ,  0.77028208],\n",
       "       [ 1.        ,  1.59636927,  0.99665085],\n",
       "       [ 1.        ,  0.67257986,  0.60595357]])"
      ]
     },
     "execution_count": 9,
     "metadata": {},
     "output_type": "execute_result"
    }
   ],
   "source": [
    "#! Add noise\n",
    "X[:, 1:] += np.random.sample(X.shape)[:, 1:] / 1.5\n",
    "X"
   ]
  },
  {
   "cell_type": "markdown",
   "metadata": {},
   "source": [
    "#### #Newton method"
   ]
  },
  {
   "cell_type": "code",
   "execution_count": 10,
   "metadata": {},
   "outputs": [
    {
     "name": "stdout",
     "output_type": "stream",
     "text": [
      "[[ 0.07415552]\n",
      " [ 0.08811019]\n",
      " [ 0.04631799]] \n",
      "\n",
      " [[-0.4]\n",
      " [ 0.4]\n",
      " [ 0.5]]\n"
     ]
    }
   ],
   "source": [
    "#initialize W\n",
    "W_init = np.random.sample(W_true.shape) / 10\n",
    "print(W_init, \"\\n\\n\",W_true)"
   ]
  },
  {
   "cell_type": "code",
   "execution_count": 121,
   "metadata": {},
   "outputs": [
    {
     "name": "stdout",
     "output_type": "stream",
     "text": [
      "0: gini = 15.859158524045071, log_loss = 0.6894635536989396\n",
      "[[-0.02916719]\n",
      " [ 0.09748021]\n",
      " [-0.04076173]]\n",
      "--------------------\n",
      "10: gini = 45.399042873314045, log_loss = 0.6826802700833441\n",
      "[[-0.07065072]\n",
      " [ 0.12211186]\n",
      " [ 0.00127095]]\n",
      "--------------------\n",
      "20: gini = 62.00111852530114, log_loss = 0.6761312770221675\n",
      "[[-0.11179831]\n",
      " [ 0.14644188]\n",
      " [ 0.04268418]]\n",
      "--------------------\n",
      "30: gini = 70.46284051926023, log_loss = 0.6698045480015583\n",
      "[[-0.15261871]\n",
      " [ 0.17048158]\n",
      " [ 0.08350094]]\n",
      "--------------------\n",
      "40: gini = 74.89485579713286, log_loss = 0.6636888823102695\n",
      "[[-0.19312003]\n",
      " [ 0.19424153]\n",
      " [ 0.12374273]]\n",
      "--------------------\n",
      "50: gini = 77.33235869438258, log_loss = 0.6577738357960654\n",
      "[[-0.23330985]\n",
      " [ 0.21773159]\n",
      " [ 0.16342962]]\n",
      "--------------------\n",
      "60: gini = 78.7625906787232, log_loss = 0.652049658288886\n",
      "[[-0.27319523]\n",
      " [ 0.24096098]\n",
      " [ 0.2025804 ]]\n",
      "--------------------\n",
      "70: gini = 79.6342910747762, log_loss = 0.6465072369744744\n",
      "[[-0.31278273]\n",
      " [ 0.26393833]\n",
      " [ 0.24121266]]\n",
      "--------------------\n",
      "80: gini = 80.19823086249235, log_loss = 0.6411380450876187\n",
      "[[-0.35207851]\n",
      " [ 0.28667171]\n",
      " [ 0.27934292]]\n",
      "--------------------\n",
      "90: gini = 80.57528454522688, log_loss = 0.6359340953682692\n",
      "[[-0.39108828]\n",
      " [ 0.30916869]\n",
      " [ 0.31698665]]\n",
      "--------------------\n"
     ]
    }
   ],
   "source": [
    "lam = 200 # L2 regularization \n",
    "alpha = 0.003\n",
    "iter1 = 100\n",
    "W_prev, W = np.zeros(W.shape), np.copy(W_init)\n",
    "for i in range(iter1):\n",
    "    #probability using current W\n",
    "    p = sigmoid(score(X, W))\n",
    "    p_derive = sigmoid_derive(p)\n",
    "    #Hessian\n",
    "    A = np.copy(X)\n",
    "    B = np.identity(x_size) * p_derive\n",
    "    H = np.dot(np.dot(A.T, B), A)\n",
    "    H_inv = np.linalg.inv(H + lam*np.eye(W.shape[0]))  # 3x3\n",
    "    #gradient\n",
    "    grad = np.dot(A.T, (p - y_true)) #3x1\n",
    "    #print(H_inv.shape, grad.shape)\n",
    "    #step = np.linalg.lstsq(Hf.T, grad.T)[0]\n",
    "    #print('step.shape: {}'.format(step.shape))\n",
    "    step = np.dot(H_inv, grad)\n",
    "    #new W\n",
    "    W -= alpha * step\n",
    "    #gini\n",
    "    auc = roc_auc_score(y_true, p)\n",
    "    gini = 200 * auc - 100\n",
    "    log_loss = f_log_loss(y_true, p)\n",
    "    if i % (iter1 // 10) == 0:\n",
    "        print('{}: gini = {}, log_loss = {}'.format(i, gini, log_loss))\n",
    "        print(W)\n",
    "        #for i in range(10):\n",
    "            #print(int(y_true[i, 0]), p[i, 0])\n",
    "        print('-' * 20)\n",
    "    \n",
    "    if np.max(np.abs(W - W_prev)) > 1e-8:\n",
    "        W_prev = np.copy(W)\n",
    "        continue\n",
    "    else:\n",
    "        print('The weight difference is small. Process stopped.')\n",
    "        break"
   ]
  },
  {
   "cell_type": "code",
   "execution_count": 114,
   "metadata": {},
   "outputs": [
    {
     "name": "stdout",
     "output_type": "stream",
     "text": [
      "81.4845681889\n"
     ]
    },
    {
     "data": {
      "text/plain": [
       "array([[-3.91208425,  4.40717924,  5.91972339]])"
      ]
     },
     "execution_count": 114,
     "metadata": {},
     "output_type": "execute_result"
    }
   ],
   "source": [
    "lr = LR()\n",
    "lr.fit(X, y_true.ravel())\n",
    "pred2 = lr.predict_proba(X)[:, 1]\n",
    "print(200.0 * roc_auc_score(y_true.ravel(), pred2.ravel()) - 100)\n",
    "lr.coef_"
   ]
  },
  {
   "cell_type": "code",
   "execution_count": null,
   "metadata": {
    "collapsed": true
   },
   "outputs": [],
   "source": []
  },
  {
   "cell_type": "code",
   "execution_count": null,
   "metadata": {
    "collapsed": true
   },
   "outputs": [],
   "source": []
  },
  {
   "cell_type": "code",
   "execution_count": null,
   "metadata": {
    "collapsed": true
   },
   "outputs": [],
   "source": []
  }
 ],
 "metadata": {
  "kernelspec": {
   "display_name": "Python 3",
   "language": "python",
   "name": "python3"
  },
  "language_info": {
   "codemirror_mode": {
    "name": "ipython",
    "version": 3
   },
   "file_extension": ".py",
   "mimetype": "text/x-python",
   "name": "python",
   "nbconvert_exporter": "python",
   "pygments_lexer": "ipython3",
   "version": "3.6.3"
  }
 },
 "nbformat": 4,
 "nbformat_minor": 2
}
